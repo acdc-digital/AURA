{
 "cells": [
  {
   "cell_type": "markdown",
   "id": "c330839c",
   "metadata": {},
   "source": [
    "## AURA: Welcome to Devlogs - The Total Audience Control management scroll."
   ]
  },
  {
   "cell_type": "markdown",
   "id": "a5d9b3c7",
   "metadata": {},
   "source": [
    "Soon, all these posts will be automated using the very product we're building. AURA is your audience control and management platform. Our goal is to help new content creates broadcast content across a range of platforms in order to satisfy their audience. We call this audience control management, and that's what we do."
   ]
  },
  {
   "cell_type": "markdown",
   "id": "1252b60f",
   "metadata": {},
   "source": [
    "Our project is comprised of Next.Js architecture, with Convex as our backend database. We primarily write in React/ Typescript, using Tailwind CSS as our style configuration.   \n",
    "We also use ShadCN as our primairy design/ component library, before applying our unique and distinct branding. "
   ]
  },
  {
   "cell_type": "markdown",
   "id": "63cecda9",
   "metadata": {},
   "source": [
    "to begin development, we're creating a NextJs project with a Convex backend via the Convex Docs: https://docs.convex.dev/quickstart/nextjs\n",
    "\n",
    "Convex is an all-in-one backend and database that integrates quickly and easily with Next.js. We are going to set up hosting, server rendering, and auth. Query data from Convex in a Next.js app using the App Router and TypeScript."
   ]
  },
  {
   "cell_type": "markdown",
   "id": "f7cb5e67",
   "metadata": {},
   "source": [
    "**Setup:**   \n",
    "Using package manager: npm    \n",
    "✔ Project name: … AURA   \n",
    "✔ Package name: … aura   \n",
    "✔ Choose a client: › Next.js App Router   \n",
    "✔ Choose user authentication: › Clerk (requires Clerk account)"
   ]
  },
  {
   "cell_type": "markdown",
   "id": "aee5ab22",
   "metadata": {},
   "source": [
    "**Completed Setup Items:**\n",
    "1. ✅ Added Convex client instructions to Copilot with official guidelines from Convex docs\n",
    "2. ✅ Set up Convex MCP server for enhanced AI coding assistance \n",
    "3. ✅ Configured pnpm workspace structure\n",
    "4. ✅ Enhanced Copilot instructions with expert-level guidelines\n",
    "\n",
    "**Next Steps:**\n",
    "1. Add the Convex client to the layout code when implementing the frontend\n",
    "2. Set up Clerk authentication integration\n",
    "3. Begin building the audience control management features\n",
    "\n",
    "**Deployment used by `npx convex dev`**   \n",
    "CONVEX_DEPLOYMENT=dev:exuberant-starfish-100 # team: acdc-digital, project: aura-68ac3\n",
    "NEXT_PUBLIC_CONVEX_URL=https://exuberant-starfish-100.convex.cloud"
   ]
  },
  {
   "cell_type": "markdown",
   "id": "16ffc979",
   "metadata": {},
   "source": []
  }
 ],
 "metadata": {
  "language_info": {
   "name": "python"
  }
 },
 "nbformat": 4,
 "nbformat_minor": 5
}
